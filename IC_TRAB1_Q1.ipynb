{
  "nbformat": 4,
  "nbformat_minor": 0,
  "metadata": {
    "colab": {
      "name": "IC-TRAB1-Q1",
      "provenance": [],
      "collapsed_sections": [],
      "authorship_tag": "ABX9TyMOx3RUUjYGj7KWhD4Kq8vm",
      "include_colab_link": true
    },
    "kernelspec": {
      "name": "python3",
      "display_name": "Python 3"
    },
    "language_info": {
      "name": "python"
    }
  },
  "cells": [
    {
      "cell_type": "markdown",
      "metadata": {
        "id": "view-in-github",
        "colab_type": "text"
      },
      "source": [
        "<a href=\"https://colab.research.google.com/github/ArthurMN/IC-TRAB-1/blob/main/IC_TRAB1_Q1.ipynb\" target=\"_parent\"><img src=\"https://colab.research.google.com/assets/colab-badge.svg\" alt=\"Open In Colab\"/></a>"
      ]
    },
    {
      "cell_type": "markdown",
      "source": [
        "# Questão 1\n",
        "Construa um programa baseado em lógica fuzzy (inferência de Mamdani) conforme as regras disponibilizadas no Exercício 18 do livro “Inteligência Computacional Aplicada à Administração, Economia e Engenharia em Matlab”, Hime Aguiar e Oliveira Junior (Coordenadores), Caldeira, A. M.; Machado, M. A. S.; Sousa, R. C.; Tanscheit, R.; Thomson Learning, 2007. O programa deverá solicitar as entradas ao usuário e exibir a saída produzida.\n",
        "\n",
        "\n"
      ],
      "metadata": {
        "id": "QaEFdIYW-oH7"
      }
    },
    {
      "cell_type": "markdown",
      "source": [
        "# Bibliotecas\n",
        "Para a resolução do problema foram utilizadas as bibliotecas matplotlib, numpy, e math.\n",
        "\n",
        "\n"
      ],
      "metadata": {
        "id": "jwtxTxyc-1NE"
      }
    },
    {
      "cell_type": "markdown",
      "source": [
        "# Entradas\n",
        "\n",
        "Duas entradas serão solicitadas, temperatura ambiente e preço unitário, e apartir dessas entradas o algoritimo deve determinar o consumo do refrigerante em dada região. A temperatura tem um domínio de 15 a 45°C, enquanto o preço unitário um domínio de 1 a 6, e o consumo um domínio de 500 a 6000. O algoritimo garante que a temperatura e o preço unítario estarão nesses domínios."
      ],
      "metadata": {
        "id": "keNwPACvXKHp"
      }
    },
    {
      "cell_type": "code",
      "source": [
        "'''----------------------- SOLICITAÇÃO DE ENTRADAS - INICIO ----------------------------------'''\n",
        "#Solicita as entradas garantido que as mesmas estão no intervalo devido\n",
        "while True:\n",
        "  temperatura = float(input('Insira a temperatura ambiente [15,45]: '))\n",
        "  if(15<= temperatura <= 45):\n",
        "    break;\n",
        "  else:\n",
        "    print('Valor invalido, por favor insira uma temperatura no intervalo [15,45]')\n",
        "\n",
        "while True:\n",
        "  preco_unitario = float(input('Insira o preço unitário [1,6]: '))\n",
        "  if(1<= preco_unitario <= 6):\n",
        "    break;\n",
        "  else:\n",
        "    print('Valor invalido, por favor insira um preco unitario no intervalo [1,6]')\n",
        "\n",
        "'''----------------------- SOLICITAÇÃO DE ENTRADAS - FIM ----------------------------------'''"
      ],
      "metadata": {
        "colab": {
          "base_uri": "https://localhost:8080/",
          "height": 70
        },
        "id": "vLEgfY5gYW4R",
        "outputId": "1a062320-e672-429c-cbd2-eac144a7a117"
      },
      "execution_count": 25,
      "outputs": [
        {
          "name": "stdout",
          "output_type": "stream",
          "text": [
            "Insira a temperatura ambiente [15,45]: 30\n",
            "Insira o preço unitário [1,6]: 3.5\n"
          ]
        },
        {
          "output_type": "execute_result",
          "data": {
            "text/plain": [
              "'----------------------- SOLICITAÇÃO DE ENTRADAS - FIM ----------------------------------'"
            ],
            "application/vnd.google.colaboratory.intrinsic+json": {
              "type": "string"
            }
          },
          "metadata": {},
          "execution_count": 25
        }
      ]
    },
    {
      "cell_type": "markdown",
      "source": [
        "# Funções de pertinência\n",
        "Funções que modelaram os dados de entrada em três niveis diferentes, **baixo**, **medio**, **alto**. A função gaussiana modelara as duas entradas, enquanto a triangular modela a saída.\n",
        "\n",
        "\n",
        "Função Gaussiana:\n",
        "\\begin{align}\n",
        "        \\mathbf f(x) = \\frac {1}{σ(2π)^{1/2}}*e^{\\frac{1}{2}(\\frac{(x - µ)}{2σ})^2}\n",
        "    \\end{align}\n",
        "\n",
        "Função Triangular:\n",
        "\n",
        "\\begin{align}\n",
        "        \\text{f}(x) = \\left\\{\n",
        "        \\begin{array}{cl}\n",
        "        0 & a > x \\\\\n",
        "        \\frac {x-a}{b-a} & a < x \\le b\\\\\n",
        "        \\frac {c-x}{c-b} & b < x < c \\\\\n",
        "        0 & c \\le x.\n",
        "        \\end{array}\n",
        "        \\right.\n",
        "    \\end{align}"
      ],
      "metadata": {
        "id": "p4aztjOLWYzS"
      }
    },
    {
      "cell_type": "code",
      "source": [
        "#Importação das blibliotecas utilizadas\n",
        "import matplotlib.pyplot as plt\n",
        "import numpy as np\n",
        "import math\n",
        "'''-------------------------- FUNÇÕES DE PERTINENCIA - INICIO --------------------------------------'''\n",
        "def Funcao_Gaussiana(x, desvio_padrao, intervalo_inicial):\n",
        "    return math.exp(-(x-intervalo_inicial)**2/(2*desvio_padrao**2))\n",
        "\n",
        "def Funcao_Triangular(a,b,c,x):\n",
        "  if(x <= a):\n",
        "    return 0\n",
        "  if( a < x and x <= b):\n",
        "    return (x-a)/(b-a)\n",
        "  if(b < x and x < c):\n",
        "    return (c-x)/(c-b)\n",
        "  if(x >= c):\n",
        "    return 0\n",
        "\n",
        "def t_baixo(x):\n",
        "  return Funcao_Gaussiana(x, 6.369, 15)\n",
        "def t_medio(x):\n",
        "  return Funcao_Gaussiana(x, 6.369, 30)\n",
        "def t_alto(x):\n",
        "  return Funcao_Gaussiana(x, 6.369, 45)\n",
        "\n",
        "def p_baixo(x):\n",
        "  return Funcao_Gaussiana(x, 1.061, 1)\n",
        "def p_medio(x):\n",
        "  return Funcao_Gaussiana(x, 1.061, 3.5)\n",
        "def p_alto(x):\n",
        "  return Funcao_Gaussiana(x, 1.061, 6)\n",
        "\n",
        "\n",
        "def c_baixo(x):\n",
        "  return Funcao_Triangular(-2250, 500, 3250, x)\n",
        "def c_medio(x):\n",
        "  return Funcao_Triangular(500, 3250, 6000, x)\n",
        "def c_alto(x):\n",
        "  return Funcao_Triangular(3250, 6000, 8750, x)\n",
        "'''----------------------- FUNÇÕES DE PERTINENCIA - FIM --------------------------------------'''"
      ],
      "metadata": {
        "id": "jM4ygI1Ozeow",
        "colab": {
          "base_uri": "https://localhost:8080/",
          "height": 35
        },
        "outputId": "6e3a775e-0077-4f7f-d3c6-0d6a8b2f7ba2"
      },
      "execution_count": 26,
      "outputs": [
        {
          "output_type": "execute_result",
          "data": {
            "text/plain": [
              "'----------------------- FUNÇÕES DE PERTINENCIA - FIM --------------------------------------'"
            ],
            "application/vnd.google.colaboratory.intrinsic+json": {
              "type": "string"
            }
          },
          "metadata": {},
          "execution_count": 26
        }
      ]
    },
    {
      "cell_type": "markdown",
      "source": [
        "# Regras de inferência\n",
        "\n",
        "**Regra 1**: Se a temperatura é baixa e o preço é baixo, então o consumo é grande.\n",
        "\n",
        "**Regra 2**: Se a temperatura é baixa e o preço é médio, então o consumo é médio.\n",
        "\n",
        "**Regra 3**: Se a temperatura é baixa e o preço é alto, então o consumo é pequeno.\n",
        "\n",
        "**Regra 4**: Se a temperatura é média e o preço é baixo, então o consumo é grande.\n",
        "\n",
        "**Regra 5**: Se a temperatura é média e o preço é médio, então o consumo é médio.\n",
        "\n",
        "**Regra 6**: Se a temperatura é média e o preço é alto, então o consumo é pequeno.\n",
        "\n",
        "**Regra 7**: Se a temperatura é alta e o preço é baixo, então o consumo é grande.\n",
        "\n",
        "**Regra 8**: Se a temperatura é alta e o preço é médio, então o consumo é médio.\n",
        "\n",
        "**Regra 9**: Se a temperatura é alta e o preço é alto, então o consumo é pequeno.\n",
        "\n",
        "Após a aplicação das regras de inferência a saída fuzzyficada é o máximo dos valores obtidos.\n"
      ],
      "metadata": {
        "id": "EjvnSjNUWmKz"
      }
    },
    {
      "cell_type": "code",
      "source": [
        "'''-------------------------------- REGRAS - INICIO ------------------------------------------'''\n",
        "\n",
        "#Se temperatura pequena e preço alto\n",
        "c_pequeno_1 = min(t_baixo(temperatura), p_alto(preco_unitario))\n",
        "#Se temperatura alta e preço alto\n",
        "c_pequeno_2 = min(t_alto(temperatura), p_alto(preco_unitario))\n",
        "#Se temperatura media e preço alto\n",
        "c_pequeno_3 = min(t_medio(temperatura), p_alto(preco_unitario))\n",
        "#Se temperatura baixa e preço medio\n",
        "c_medio_1 = min(t_baixo(temperatura), p_medio(preco_unitario))\n",
        "#Se temperatura media e preço medio\n",
        "c_medio_2 = min(t_medio(temperatura), p_medio(preco_unitario))\n",
        "#Se temperatura alta e preço medio\n",
        "c_medio_3 = min(t_alto(temperatura), p_medio(preco_unitario))\n",
        "#Se temperatura baixa e preço baixo\n",
        "c_alto_1 = min(t_baixo(temperatura), p_baixo(preco_unitario))\n",
        "#Se temperatura media e preço baixo\n",
        "c_alto_2 = min(t_medio(temperatura), p_baixo(preco_unitario))\n",
        "#Se temperatura alta e preço medio\n",
        "c_alto_3 = min(t_alto(temperatura), p_medio(preco_unitario))\n",
        "\n",
        "#Se Temperatura baixa e preço baixo, então consumo alto\n",
        "def regra_1(x):\n",
        "  return min(c_alto_1, c_alto(x))\n",
        "\n",
        "#Se Temperatura baixa e preço medio, então consumo medio\n",
        "def regra_2(x):\n",
        "  return min(c_medio_1, c_medio(x))\n",
        "\n",
        "#Se Temperatura baixa e preço alto, então consumo pequeno\n",
        "def regra_3(x):\n",
        "  return min(c_pequeno_1, c_baixo(x))\n",
        "\n",
        "#Se Temperatura media e preço baixo, então consumo alto\n",
        "def regra_4(x):\n",
        "  return min(c_alto_3, c_alto(x))\n",
        "\n",
        "#Se Temperatura media e preço medio, então consumo medio\n",
        "def regra_5(x):\n",
        "  return min(c_medio_2, c_medio(x))\n",
        "\n",
        "#Se Temperatura media e preço alto, então consumo baixo\n",
        "def regra_6(x):\n",
        "  return min(c_pequeno_2, c_baixo(x))\n",
        "\n",
        "#Se Temperatura alta e preço medio, então consumo alto\n",
        "def regra_7(x):\n",
        "  return min(c_alto_2, c_alto(x))\n",
        "\n",
        "#Se Temperatura alta e preço medio, então consumo medio\n",
        "def regra_8(x):\n",
        "  return min(c_medio_3, c_medio(x))\n",
        "\n",
        "#Se Temperatura alta e preço alto, então consumo baixo\n",
        "def regra_9(x):\n",
        "  return min(c_pequeno_3, c_baixo(x))\n",
        "\n",
        "#Saída fuzzificada\n",
        "def OutFuzzy(x):\n",
        "  return max([regra_1(x), regra_2(x), regra_3(x), regra_4(x), regra_5(x), regra_6(x), regra_7(x), regra_8(x), regra_9(x)])\n",
        "'''-------------------------------- REGRAS - FIM ------------------------------------------'''"
      ],
      "metadata": {
        "colab": {
          "base_uri": "https://localhost:8080/",
          "height": 35
        },
        "id": "CJ8ozerVWsSJ",
        "outputId": "32ee8a25-e775-4857-98c8-f5a27c53a31c"
      },
      "execution_count": 27,
      "outputs": [
        {
          "output_type": "execute_result",
          "data": {
            "text/plain": [
              "'-------------------------------- REGRAS - FIM ------------------------------------------'"
            ],
            "application/vnd.google.colaboratory.intrinsic+json": {
              "type": "string"
            }
          },
          "metadata": {},
          "execution_count": 27
        }
      ]
    },
    {
      "cell_type": "markdown",
      "source": [
        "# Desfuzzyficação\n",
        "Resta agora realizar o processo de eesfuzzyficação. O processo é feito pela a obtenção da área sombreada na figura, determinada pelo centroide calculado como,\n",
        "\\begin{align}\n",
        "        \\mathbf C = \\frac {\\sum_{} P_a(x)x}{\\sum_{} P_a(x)}.\n",
        "    \\end{align}\n",
        "em que PA(x) é a função de pertinência."
      ],
      "metadata": {
        "id": "U5MyzYktWqmA"
      }
    },
    {
      "cell_type": "code",
      "source": [
        "'''---------------------------- DEFUZZYFICAÇÃO - INICIO ------------------------------------'''\n",
        "#Desfuzzyficação por meio do cálculo do centroide\n",
        "a = np.arange(500, 6000.1, 0.5)\n",
        "b = np.array([])\n",
        "n = 0\n",
        "d = 0\n",
        "for i in a:\n",
        "    b = np.append(b, OutFuzzy(i))\n",
        "    n = n + i*OutFuzzy(i)\n",
        "    d = d + OutFuzzy(i)\n",
        "out = n/d\n",
        "'''---------------------------- DEFUZZYFICAÇÃO - FIM ------------------------------------'''\n",
        "\n",
        "plt.plot(a,b, color ='b')\n",
        "plt.xlim(500,6000)\n",
        "plt.grid()\n",
        "plt.show()\n",
        "\n",
        "print(\"A temperatura inserida foi:\", temperatura, \"°C\")\n",
        "print(\"O preço unitário inserido foi:\", preco_unitario)\n",
        "print(\"O consumo para essas entradas é:\", out)"
      ],
      "metadata": {
        "colab": {
          "base_uri": "https://localhost:8080/",
          "height": 317
        },
        "id": "OtkdSSl_W8ix",
        "outputId": "2294c394-3c29-481b-bee9-61afc93ec741"
      },
      "execution_count": 28,
      "outputs": [
        {
          "output_type": "display_data",
          "data": {
            "text/plain": [
              "<Figure size 432x288 with 1 Axes>"
            ],
            "image/png": "[encoded data removed]"
          },
          "metadata": {
            "needs_background": "light"
          }
        },
        {
          "output_type": "stream",
          "name": "stdout",
          "text": [
            "A temperatura inserida foi: 30.0 °C\n",
            "O preço unitário inserido foi: 3.5\n",
            "O consumo para essas entradas é: 3250.0270315446596\n"
          ]
        }
      ]
    }
  ]
}